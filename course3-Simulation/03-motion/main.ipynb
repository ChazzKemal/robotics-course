{
 "cells": [
  {
   "cell_type": "markdown",
   "metadata": {},
   "source": [
    "## Using Komo for IK"
   ]
  },
  {
   "cell_type": "code",
   "execution_count": 1,
   "metadata": {},
   "outputs": [
    {
     "name": "stdout",
     "output_type": "stream",
     "text": [
      "**ry-c++-log** ry.cpp:init_LogToPythonConsole:34(0) initializing ry log callback\n",
      "\n",
      "**ry-c++-log** util.cpp:initCmdLine:545(1) ** cmd line arguments: 'rai-pybind -python '** INFO:ry.cpp:init_LogToPythonConsole:34(0) initializing ry log callback\n",
      "\n",
      "\n",
      "**ry-c++-log** util.cpp:initCmdLine:549(1) ** run path: '/home/jung-su/git/robotics-course/course3-Simulation/03-motion'** INFO:util.cpp:initCmdLine:545(1) ** cmd line arguments: 'rai-pybind -python '\n",
      "\n",
      "\n",
      "**ry-c++-log** graph.cpp:initParameters:1379(1) ** parsed parameters:\n",
      "{python}\n",
      "** INFO:util.cpp:initCmdLine:549(1) ** run path: '/home/jung-su/git/robotics-course/course3-Simulation/03-motion'\n",
      "\n",
      "\n",
      "** INFO:graph.cpp:initParameters:1379(1) ** parsed parameters:\n",
      "{python}\n",
      "\n"
     ]
    }
   ],
   "source": [
    "import sys\n",
    "sys.path.append('../../build')\n",
    "import numpy as np\n",
    "import libry as ry"
   ]
  },
  {
   "cell_type": "code",
   "execution_count": 2,
   "metadata": {},
   "outputs": [],
   "source": [
    "# Here we do not need a simulation world\n",
    "# adding a configuration world\n",
    "C = ry.Config()\n",
    "C.addFile(\"../../scenarios/pandasTable.g\")\n",
    "D = C.view()"
   ]
  },
  {
   "cell_type": "code",
   "execution_count": 3,
   "metadata": {},
   "outputs": [],
   "source": [
    "obj = C.addFrame(\"object\")\n",
    "obj.setPosition([1., 0., 1.5])\n",
    "obj.setQuaternion([1,0,1,0])\n",
    "obj.setShape(ry.ST.capsule, [.2,.02])\n",
    "obj.setColor([1,0,1])"
   ]
  },
  {
   "cell_type": "code",
   "execution_count": 4,
   "metadata": {},
   "outputs": [],
   "source": [
    "IK = C.komo_IK(False)\n",
    "IK.add_qControlObjective([], 1, 1.)\n",
    "IK.addObjective([1.], \n",
    "                ry.FS.positionRel, \n",
    "                [\"object\", \"R_gripperCenter\"], \n",
    "                ry.OT.eq, \n",
    "                [1e2],\n",
    "                [0.,0.,-.2]);"
   ]
  },
  {
   "cell_type": "code",
   "execution_count": 5,
   "metadata": {},
   "outputs": [
    {
     "name": "stdout",
     "output_type": "stream",
     "text": [
      "** KOMO::run solver:dense collisions:0 x-dim:14 T:1 k:1 phases:1 stepsPerPhase:1 tau:1  #timeSlices:2 #totalDOFs:14 #frames:220\n"
     ]
    },
    {
     "data": {
      "text/plain": [
       "{'F_qItself/1-#28': {'order': 1.0, 'type': 'sos', 'sos': 0.7709668210737692},\n",
       " 'F_qQuaternionNorms/0-#110': {'order': 0.0, 'type': 'eq'},\n",
       " 'F_PositionRel/0-object-R_gripperCenter': {'order': 0.0,\n",
       "  'type': 'eq',\n",
       "  'eq': 0.00031254232040027474},\n",
       " 'sos': 0.778676489284507,\n",
       " 'ineq': 0.0,\n",
       " 'eq': 0.00031254232040027474,\n",
       " 'f': 0.0}"
      ]
     },
     "execution_count": 5,
     "metadata": {},
     "output_type": "execute_result"
    },
    {
     "name": "stdout",
     "output_type": "stream",
     "text": [
      "** optimization time:0.005198 (kin:0.000195 coll:0 feat:0.001569 newton: 0.001866) setJointStateCount:10\n",
      "   sos:0.778676 ineq:0 eq:0.000312542\n"
     ]
    }
   ],
   "source": [
    "# Calling the optimizer (True means random initialization/restart)\n",
    "IK.optimize()\n",
    "IK.getReport()"
   ]
  },
  {
   "cell_type": "code",
   "execution_count": 6,
   "metadata": {},
   "outputs": [],
   "source": [
    "C.setFrameState( IK.getFrameState(0) )"
   ]
  },
  {
   "cell_type": "code",
   "execution_count": 10,
   "metadata": {},
   "outputs": [
    {
     "name": "stdout",
     "output_type": "stream",
     "text": [
      "{'F_qItself/1-#28': {'order': 1.0, 'type': 'sos', 'sos': 0.06740781678702858}, 'F_qQuaternionNorms/0-#110': {'order': 0.0, 'type': 'eq'}, 'F_PositionRel/0-object-R_gripperCenter': {'order': 0.0, 'type': 'eq', 'eq': 0.0021237462531570675}, 'sos': 0.06808189495489886, 'ineq': 0.0, 'eq': 0.0021237462531570675, 'f': 0.0}\n",
      "** KOMO::run solver:dense collisions:0 x-dim:14 T:1 k:1 phases:1 stepsPerPhase:1 tau:1  #timeSlices:2 #totalDOFs:14 #frames:220\n",
      "** optimization time:0.000435 (kin:2e-05 coll:0 feat:0.000155 newton: 3.2e-05) setJointStateCount:4\n",
      "   sos:0.0680819 ineq:0 eq:0.00212375\n"
     ]
    }
   ],
   "source": [
    "# Move object and reoptimize\n",
    "\n",
    "# move object\n",
    "obj.setPosition([.2,.2,1.5])\n",
    "\n",
    "# # copy C into the IK's internal configuration(s)\n",
    "# IK.setConfigurations(C)\n",
    "\n",
    "# redefine the IK problem\n",
    "IK = C.komo_IK(False)\n",
    "IK.add_qControlObjective([], 1, 1.)\n",
    "IK.addObjective([1.], \n",
    "                ry.FS.positionRel, \n",
    "                [\"object\", \"R_gripperCenter\"], \n",
    "                ry.OT.eq, \n",
    "                [1e2],\n",
    "                [0.,0.,-.1]);\n",
    "# reoptimize\n",
    "IK.optimize(0.) # 0 indicates: no adding of noise for a random restart\n",
    "print(IK.getReport())\n",
    "\n",
    "# grab result\n",
    "C.setFrameState( IK.getFrameState(0) )"
   ]
  },
  {
   "cell_type": "markdown",
   "metadata": {},
   "source": [
    "## Path Optimization"
   ]
  },
  {
   "cell_type": "code",
   "execution_count": 11,
   "metadata": {},
   "outputs": [
    {
     "data": {
      "text/plain": [
       "{'F_qItself/2-#28': {'order': 2.0, 'type': 'sos', 'sos': 0.08934823365829975},\n",
       " 'F_PositionDiff/0-R_gripperCenter-object': {'order': 0.0,\n",
       "  'type': 'sos',\n",
       "  'sos': 6.134460646622827e-05},\n",
       " 'F_qItself/1-#28': {'order': 1.0, 'type': 'eq', 'eq': 1.5060678071679434e-05},\n",
       " 'F_PairCollision/0-R_gripper-object': {'order': 0.0, 'type': 'ineq'},\n",
       " 'sos': 0.08940957826476598,\n",
       " 'ineq': 0.0,\n",
       " 'eq': 1.5060678071679434e-05,\n",
       " 'f': 0.0}"
      ]
     },
     "execution_count": 11,
     "metadata": {},
     "output_type": "execute_result"
    },
    {
     "name": "stdout",
     "output_type": "stream",
     "text": [
      "** KOMO::run solver:sparse collisions:1 x-dim:560 T:40 k:2 phases:1 stepsPerPhase:40 tau:0.125  #timeSlices:42 #totalDOFs:560 #frames:4620\n",
      "** optimization time:0.149016 (kin:0.008609 coll:0.110415 feat:0.015129 newton: 0.007431) setJointStateCount:15\n",
      "   sos:0.0894096 ineq:0 eq:1.50607e-05\n"
     ]
    }
   ],
   "source": [
    "obj.setPosition([.8,.2,1.5])\n",
    "\n",
    "# we want to optimize a single step (1 phase, 1 step/phase, duration=1, k_order=1)\n",
    "komo = C.komo_path(1.,40, 5., True)\n",
    "komo.addObjective([1.], ry.FS.positionDiff, [\"R_gripperCenter\", \"object\"], ry.OT.sos, [1e2])\n",
    "komo.addObjective([1.], ry.FS.qItself, [], ry.OT.eq, [1e2], order=1)\n",
    "komo.addObjective([], ry.FS.distance, [\"R_gripper\", \"object\"], ry.OT.ineq, [1e2])\n",
    "\n",
    "komo.optimize()\n",
    "komo.getReport()"
   ]
  },
  {
   "cell_type": "code",
   "execution_count": 12,
   "metadata": {},
   "outputs": [],
   "source": [
    "V = komo.view_play(True, 0.1)"
   ]
  },
  {
   "cell_type": "code",
   "execution_count": 13,
   "metadata": {},
   "outputs": [
    {
     "data": {
      "text/plain": [
       "(array([0.]),\n",
       " array([[0., 0., 0., 0., 0., 0., 0., 0., 0., 0., 0., 0., 0., 0.]]))"
      ]
     },
     "execution_count": 13,
     "metadata": {},
     "output_type": "execute_result"
    }
   ],
   "source": [
    "C.setFrameState(komo.getFrameState(19))\n",
    "C.getJointState()\n",
    "coll = C.feature(ry.FS.accumulatedCollisions, [])\n",
    "C.computeCollisions() \n",
    "coll.eval(C)"
   ]
  },
  {
   "cell_type": "code",
   "execution_count": null,
   "metadata": {},
   "outputs": [],
   "source": []
  }
 ],
 "metadata": {
  "kernelspec": {
   "display_name": "base",
   "language": "python",
   "name": "base"
  },
  "language_info": {
   "codemirror_mode": {
    "name": "ipython",
    "version": 3
   },
   "file_extension": ".py",
   "mimetype": "text/x-python",
   "name": "python",
   "nbconvert_exporter": "python",
   "pygments_lexer": "ipython3",
   "version": "3.8.5"
  }
 },
 "nbformat": 4,
 "nbformat_minor": 4
}
