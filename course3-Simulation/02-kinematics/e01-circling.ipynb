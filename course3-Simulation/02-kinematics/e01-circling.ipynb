{
 "cells": [
  {
   "cell_type": "code",
   "execution_count": 3,
   "metadata": {},
   "outputs": [],
   "source": [
    "import numpy as np\n",
    "import sys\n",
    "sys.path.append('../../build')\n",
    "import libry as ry\n",
    "import time"
   ]
  },
  {
   "cell_type": "code",
   "execution_count": 4,
   "metadata": {},
   "outputs": [],
   "source": [
    "#-- MODEL WORLD configuration, this is the data structure on which you represent\n",
    "# what you know about the world and compute things (controls, contacts, etc)\n",
    "C = ry.Config()\n",
    "C.addFile(\"../../scenarios/pandasTable.g\")\n",
    "D = C.view()\n",
    "q0 = C.getJointState()\n",
    "\n",
    "obj = C.addFrame(\"object\")\n",
    "# set frame parameters, associate a shape to the frame, \n",
    "pos_obj = np.array([.5,0,1.5])\n",
    "pos_obj0 = pos_obj.copy()\n",
    "obj.setPosition(pos_obj)\n",
    "obj.setQuaternion([1,0,0,0])\n",
    "obj.setShape(ry.ST.sphere, [.02])\n",
    "obj.setColor([1,0,0])"
   ]
  },
  {
   "cell_type": "code",
   "execution_count": null,
   "metadata": {},
   "outputs": [],
   "source": [
    "tau = .01\n",
    "C.setJointState(q0)\n",
    "q = C.getJointState()\n",
    "for t in range(1000):\n",
    "    time.sleep(0.01)\n",
    "    \n",
    "    # move the obj for fun!\n",
    "#     pos_obj[0] = 1 - np.sin(0.01*t) \n",
    "#     obj.setPosition(pos_obj)\n",
    "\n",
    "    # Your code here\n",
    "#     vel_ee = \n",
    "#     vel =  np.linalg.inv(J.T@J + 1e-2*np.eye(q.shape[0])) @ J.T @ vel_ee;\n",
    "    \n",
    "    q += tau*vel\n",
    "    C.setJointState(q) "
   ]
  }
 ],
 "metadata": {
  "kernelspec": {
   "display_name": "base",
   "language": "python",
   "name": "base"
  },
  "language_info": {
   "codemirror_mode": {
    "name": "ipython",
    "version": 3
   },
   "file_extension": ".py",
   "mimetype": "text/x-python",
   "name": "python",
   "nbconvert_exporter": "python",
   "pygments_lexer": "ipython3",
   "version": "3.8.5"
  }
 },
 "nbformat": 4,
 "nbformat_minor": 4
}
