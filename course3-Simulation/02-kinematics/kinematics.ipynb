{
 "cells": [
  {
   "cell_type": "code",
   "execution_count": null,
   "metadata": {},
   "outputs": [],
   "source": [
    "import numpy as np\n",
    "import sys\n",
    "sys.path.append('../../build')\n",
    "import libry as ry\n",
    "import time"
   ]
  },
  {
   "cell_type": "code",
   "execution_count": null,
   "metadata": {},
   "outputs": [],
   "source": [
    "C = ry.Config()\n",
    "C.addFile(\"myRobot.g\")\n",
    "D = C.view()\n",
    "q0 = np.array([45, 80, -80])/180*np.pi\n",
    "C.setJointState(q0)\n",
    "\n",
    "C.frame(\"link3\").setColor([1,1,1,.7])\n",
    "\n",
    "test = C.addFrame(\"test\")\n",
    "test.setShape(ry.ST.sphere, [0.1])\n",
    "test.setColor([1, 0, 0])\n",
    "test.setPosition([0,0,1])"
   ]
  },
  {
   "cell_type": "code",
   "execution_count": null,
   "metadata": {
    "tags": []
   },
   "outputs": [],
   "source": [
    "for _ in range(10):\n",
    "    q = np.random.rand(3)\n",
    "    C.setJointState(q)\n",
    "\n",
    "    s1, s12, s123 = np.sin(q[0]), np.sin(q[0]+q[1]), np.sin(q[0]+q[1]+q[2])\n",
    "    c1, c12, c123 = np.cos(q[0]), np.cos(q[0]+q[1]), np.cos(q[0]+q[1]+q[2])\n",
    "    \n",
    "    pos_computed = np.array([\n",
    "        s1 + s12 + s123,\n",
    "        0,\n",
    "        1 + c1 + c12 + c123\n",
    "    ])\n",
    "    test.setPosition(pos_computed)\n",
    "    J_computed = np.array([\n",
    "        [c1 + c12 + c123, c12 + c123, c123],\n",
    "        [0, 0, 0],\n",
    "        [-s1 - s12 - s123, -s12 - s123, - s123]\n",
    "    ])\n",
    "    \n",
    "    y, J = C.evalFeature(ry.FS.position, [\"end_effector\"])\n",
    "    \n",
    "    diff_phi = pos_computed - y\n",
    "    print('phi error: ', np.abs(diff_phi).max())\n",
    "    \n",
    "    diff_J = J_computed - J\n",
    "    print('J error: ', np.abs(diff_J).max())\n",
    "    input()\n",
    "    \n",
    "    "
   ]
  },
  {
   "cell_type": "markdown",
   "metadata": {},
   "source": [
    "# Generating motions with feature and pseudoinverse"
   ]
  },
  {
   "cell_type": "code",
   "execution_count": null,
   "metadata": {},
   "outputs": [],
   "source": [
    "import numpy as np\n",
    "import sys\n",
    "sys.path.append('../../build')\n",
    "import libry as ry\n",
    "import time"
   ]
  },
  {
   "cell_type": "code",
   "execution_count": null,
   "metadata": {},
   "outputs": [],
   "source": [
    "#-- MODEL WORLD configuration, this is the data structure on which you represent\n",
    "# what you know about the world and compute things (controls, contacts, etc)\n",
    "C = ry.Config()\n",
    "C.addFile(\"../../scenarios/pandasTable.g\")\n",
    "D = C.view()\n",
    "q0 = C.getJointState()"
   ]
  },
  {
   "cell_type": "code",
   "execution_count": null,
   "metadata": {},
   "outputs": [],
   "source": [
    "obj = C.addFrame(\"object\")\n",
    "# set frame parameters, associate a shape to the frame, \n",
    "pos_obj = np.array([.5,0,1.5])\n",
    "pos_obj0 = pos_obj.copy()\n",
    "obj.setPosition(pos_obj)\n",
    "obj.setQuaternion([1,0,0,0])\n",
    "obj.setShape(ry.ST.sphere, [.02])\n",
    "obj.setColor([1,0,0])"
   ]
  },
  {
   "cell_type": "markdown",
   "metadata": {},
   "source": [
    "## Tracking an object\n",
    "\n",
    "Suppose the feature $\\phi$ is a mapping to the position difference between the gripper and the object (case 1 above). If this feature space is endowed with a stable dynamics, e.g., $$\\dot{y}=-y,$$ corresponding joint motions will let the gripper position to approach to the object (i.e., the position difference converges to 0). The following code exactly does that.\n",
    "\n"
   ]
  },
  {
   "cell_type": "code",
   "execution_count": null,
   "metadata": {},
   "outputs": [],
   "source": [
    "tau = .01\n",
    "obj.setPosition(pos_obj)\n",
    "C.setJointState(q0)\n",
    "q = C.getJointState()\n",
    "for t in range(1000):\n",
    "    time.sleep(0.01)\n",
    "    \n",
    "    pos_obj[0] = 1 - np.sin(0.01*t) #move the obj for fun!\n",
    "    obj.setPosition(pos_obj)\n",
    "    \n",
    "    [y,J] = C.evalFeature(ry.FS.positionRel, [\"R_gripperCenter\", \"object\"])\n",
    "    vel_ee = -y\n",
    "\n",
    "#     vel = np.linalg.pinv(J) @ vel_ee; #less stable!\n",
    "    vel = np.linalg.inv(J.T@J + 1e-2*np.eye(q.shape[0])) @ J.T @ vel_ee;\n",
    "\n",
    "    q += tau*vel\n",
    "    C.setJointState(q) #set your robot model to match the real q"
   ]
  },
  {
   "cell_type": "code",
   "execution_count": null,
   "metadata": {},
   "outputs": [],
   "source": [
    "tau = .01\n",
    "C.setJointState(q0)\n",
    "obj.setPosition(pos_obj0)\n",
    "q = C.getJointState()\n",
    "for t in range(1000):\n",
    "    time.sleep(0.01)\n",
    "    pos_obj[0] = 1 - np.sin(0.01*t) #move the obj for fun!\n",
    "    obj.setPosition(pos_obj)\n",
    "    \n",
    "    #evaluate a first feature\n",
    "    [y1,J1] = C.evalFeature(ry.FS.positionRel, [\"R_gripperCenter\", \"object\"])\n",
    "    #you can multiply y1 and J1 here with some number, to adjust the importance of the first feature\n",
    "    c1 = 0.5\n",
    "    y1, J1 = c1*y1, c1*J1\n",
    "    \n",
    "    #evaluate a second feature\n",
    "    [y2,J2] = C.evalFeature(ry.FS.scalarProductXY, [\"R_gripperCenter\",\"world\"])\n",
    "    c2 = 2\n",
    "    y2, J2 = c2*y2, c2*J2\n",
    "\n",
    "    # Third \"qItself\" feature is for regularization (small joint velocity)\n",
    "    vel_ee = np.block([-y1, c2-y2, np.zeros(q.shape[0])]) \n",
    "    J = np.block([[J1],[J2],[1e-1*np.eye(q.shape[0])]])\n",
    "    \n",
    "    \n",
    "    ## these are equivalent!\n",
    "#     vel =  np.linalg.pinv(J) @ vel_ee;\n",
    "    vel =  np.linalg.inv(J.T@J) @ J.T @ vel_ee;\n",
    "\n",
    "\n",
    "    q += tau*vel\n",
    "    C.setJointState(q) "
   ]
  },
  {
   "cell_type": "markdown",
   "metadata": {},
   "source": [
    "## Using Komo for IK"
   ]
  },
  {
   "cell_type": "code",
   "execution_count": null,
   "metadata": {},
   "outputs": [],
   "source": [
    "import sys\n",
    "sys.path.append('../../build')\n",
    "import numpy as np\n",
    "import libry as ry"
   ]
  },
  {
   "cell_type": "code",
   "execution_count": null,
   "metadata": {},
   "outputs": [],
   "source": [
    "# Here we do not need a simulation world\n",
    "# adding a configuration world\n",
    "C = ry.Config()\n",
    "C.addFile(\"../../scenarios/pandasTable.g\")\n",
    "D = C.view()"
   ]
  },
  {
   "cell_type": "code",
   "execution_count": null,
   "metadata": {},
   "outputs": [],
   "source": [
    "obj = C.addFrame(\"object\")\n",
    "obj.setPosition([1., 0., 1.5])\n",
    "obj.setQuaternion([1,0,1,0])\n",
    "obj.setShape(ry.ST.capsule, [.2,.02])\n",
    "obj.setColor([1,0,1])"
   ]
  },
  {
   "cell_type": "code",
   "execution_count": null,
   "metadata": {},
   "outputs": [],
   "source": [
    "IK = C.komo_IK(False)\n",
    "# IK.add_qControlObjective([], 1, 1.)\n",
    "IK.addObjective([1.], \n",
    "                ry.FS.positionRel, \n",
    "                [\"object\", \"R_gripperCenter\"], \n",
    "                ry.OT.eq, \n",
    "                [1e2],\n",
    "                [0.,0.,-.0]);"
   ]
  },
  {
   "cell_type": "code",
   "execution_count": null,
   "metadata": {},
   "outputs": [],
   "source": [
    "# Calling the optimizer (True means random initialization/restart)\n",
    "IK.optimize()\n",
    "IK.getReport()"
   ]
  },
  {
   "cell_type": "code",
   "execution_count": null,
   "metadata": {},
   "outputs": [],
   "source": [
    "C.setFrameState( IK.getFrameState(0) )"
   ]
  },
  {
   "cell_type": "code",
   "execution_count": null,
   "metadata": {},
   "outputs": [],
   "source": [
    "# Move object and reoptimize\n",
    "\n",
    "# move object\n",
    "obj.setPosition([.2,.2,1.5])\n",
    "\n",
    "# redefine the IK problem\n",
    "IK = C.komo_IK(False)\n",
    "IK.add_qControlObjective([], 1, 1.)\n",
    "IK.addObjective([1.], \n",
    "                ry.FS.positionRel, \n",
    "                [\"object\", \"R_gripperCenter\"], \n",
    "                ry.OT.eq, \n",
    "                [1e2],\n",
    "                [0.,0.,-.2])\n",
    "\n",
    "IK.addObjective([1.], \n",
    "                ry.FS.positionDiff, \n",
    "                [\"R_gripperCenter\", \"L_gripperCenter\"], \n",
    "                ry.OT.eq, \n",
    "                [1e2],\n",
    "                [0.,0.,-.0]);\n",
    "# reoptimize\n",
    "IK.optimize(0.) # 0 indicates: no adding of noise for a random restart\n",
    "print(IK.getReport())\n",
    "\n",
    "# grab result\n",
    "C.setFrameState( IK.getFrameState(0) )"
   ]
  },
  {
   "cell_type": "code",
   "execution_count": null,
   "metadata": {},
   "outputs": [],
   "source": []
  }
 ],
 "metadata": {
  "kernelspec": {
   "display_name": "base",
   "language": "python",
   "name": "base"
  },
  "language_info": {
   "codemirror_mode": {
    "name": "ipython",
    "version": 3
   },
   "file_extension": ".py",
   "mimetype": "text/x-python",
   "name": "python",
   "nbconvert_exporter": "python",
   "pygments_lexer": "ipython3",
   "version": "3.8.5"
  }
 },
 "nbformat": 4,
 "nbformat_minor": 4
}
