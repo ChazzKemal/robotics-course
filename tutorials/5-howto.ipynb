{
 "cells": [
  {
   "cell_type": "markdown",
   "metadata": {},
   "source": [
    "# How to enable/disable collisions"
   ]
  },
  {
   "cell_type": "code",
   "execution_count": 1,
   "metadata": {},
   "outputs": [
    {
     "name": "stdout",
     "output_type": "stream",
     "text": [
      "**ry-c++-log** /home/jung-su/git/robotics-course/rai/rai/ry/ry.cpp:init_LogToPythonConsole:34(0) initializing ry log callback\n",
      "\n"
     ]
    }
   ],
   "source": [
    "import sys\n",
    "sys.path.append('../build')\n",
    "import libry as ry\n",
    "import numpy as np\n",
    "import time"
   ]
  },
  {
   "cell_type": "code",
   "execution_count": 2,
   "metadata": {},
   "outputs": [],
   "source": [
    "C = ry.Config()\n",
    "C.addFile(\"../scenarios/pandasTable.g\")\n",
    "D = C.view()\n",
    "# V = ry.ConfigurationViewer()\n",
    "# V.setConfiguration(C)"
   ]
  },
  {
   "cell_type": "code",
   "execution_count": 3,
   "metadata": {},
   "outputs": [
    {
     "data": {
      "text/plain": [
       "[]"
      ]
     },
     "execution_count": 3,
     "metadata": {},
     "output_type": "execute_result"
    }
   ],
   "source": [
    "#no collisions so far:\n",
    "C.computeCollisions() #this calls broadphase collision detection\n",
    "C.getCollisions()     #this reports collisions (in algorithms, use features instead)"
   ]
  },
  {
   "cell_type": "code",
   "execution_count": 4,
   "metadata": {},
   "outputs": [],
   "source": [
    "#bring into collision:\n",
    "q = C.getJointState()\n",
    "\n",
    "for t in range(10):\n",
    "    [y,J] = C.evalFeature(ry.FS.positionDiff, [\"R_gripperCenter\", \"L_gripperCenter\"])\n",
    "    vel = J.T @ np.linalg.inv(J@J.T + 1e-2*np.eye(y.shape[0])) @ (-y);\n",
    "\n",
    "    q = q + .8*vel\n",
    "    C.setJointState(q)"
   ]
  },
  {
   "cell_type": "code",
   "execution_count": 5,
   "metadata": {},
   "outputs": [
    {
     "data": {
      "text/plain": [
       "[('L_panda_coll7', 'R_frame', 0.04384857882061481),\n",
       " ('L_frame', 'R_frame', 0.062271336259521554),\n",
       " ('L_panda_coll7', 'R_frame', -0.0165056236477103),\n",
       " ('L_gripper', 'R_frame', 0.061638234421454136),\n",
       " ('L_finger1', 'R_frame', 0.08104513748692069),\n",
       " ('L_panda_coll7', 'R_panda_coll7', 0.008790855718814328),\n",
       " ('L_gripper', 'R_panda_coll7', -0.010603028742971136),\n",
       " ('L_finger1', 'R_panda_coll7', -0.0027839621081884175),\n",
       " ('L_frame', 'R_gripper', 0.09081440563557787),\n",
       " ('L_panda_coll7', 'R_gripper', -0.0039863116105960435),\n",
       " ('L_gripper', 'R_gripper', -0.02),\n",
       " ('L_finger1', 'R_gripper', -0.008350122088338059),\n",
       " ('L_finger2', 'R_gripper', 0.07321833887206175),\n",
       " ('L_gripper', 'R_finger1', 0.06962644342495132),\n",
       " ('L_finger1', 'R_finger1', 0.03500466193618268),\n",
       " ('L_finger2', 'R_finger1', 0.059582137007127306),\n",
       " ('L_frame', 'R_finger2', 0.07910327106911726),\n",
       " ('L_panda_coll7', 'R_finger2', 0.0068432225174079354),\n",
       " ('L_gripper', 'R_finger2', 0.0006805808021984085),\n",
       " ('L_finger1', 'R_finger2', 0.05958190238995907),\n",
       " ('L_finger2', 'R_finger2', 0.035004857899027325)]"
      ]
     },
     "execution_count": 5,
     "metadata": {},
     "output_type": "execute_result"
    }
   ],
   "source": [
    "C.computeCollisions() #this calls broadphase collision detection\n",
    "C.getCollisions(belowMargin=1.) "
   ]
  },
  {
   "cell_type": "code",
   "execution_count": 6,
   "metadata": {},
   "outputs": [
    {
     "data": {
      "text/plain": [
       "[('L_panda_coll7', 'R_frame', -0.0165056236477103),\n",
       " ('L_gripper', 'R_panda_coll7', -0.010603028742971136),\n",
       " ('L_finger1', 'R_panda_coll7', -0.0027839621081884175),\n",
       " ('L_panda_coll7', 'R_gripper', -0.0039863116105960435),\n",
       " ('L_gripper', 'R_gripper', -0.02),\n",
       " ('L_finger1', 'R_gripper', -0.008350122088338059)]"
      ]
     },
     "execution_count": 6,
     "metadata": {},
     "output_type": "execute_result"
    }
   ],
   "source": [
    "#those are the real penetrations:\n",
    "C.getCollisions(belowMargin=0.) "
   ]
  },
  {
   "cell_type": "code",
   "execution_count": 7,
   "metadata": {},
   "outputs": [],
   "source": [
    "#deactivate a collision flag!\n",
    "f = C.getFrame(\"R_gripper\")\n",
    "f.setContact(0)"
   ]
  },
  {
   "cell_type": "code",
   "execution_count": 8,
   "metadata": {},
   "outputs": [
    {
     "data": {
      "text/plain": [
       "[('L_panda_coll7', 'R_frame', -0.0165056236477103),\n",
       " ('L_gripper', 'R_panda_coll7', -0.010603028742971136),\n",
       " ('L_finger1', 'R_panda_coll7', -0.0027839621081884175)]"
      ]
     },
     "execution_count": 8,
     "metadata": {},
     "output_type": "execute_result"
    }
   ],
   "source": [
    "C.computeCollisions()\n",
    "C.getCollisions(belowMargin=0.) "
   ]
  },
  {
   "cell_type": "code",
   "execution_count": 9,
   "metadata": {},
   "outputs": [
    {
     "data": {
      "text/plain": [
       "(array([0.02989261]),\n",
       " array([[-8.70327325e-01, -8.44179283e-01, -8.64238152e-01,\n",
       "          1.21674891e+00, -5.35130235e-02,  3.94913772e-01,\n",
       "         -4.67555907e-02,  1.09051673e+00,  1.07776584e+00,\n",
       "          1.03000899e+00, -7.89139561e-01, -7.41472816e-02,\n",
       "         -1.80039389e-01,  4.28506360e-18]]))"
      ]
     },
     "execution_count": 9,
     "metadata": {},
     "output_type": "execute_result"
    }
   ],
   "source": [
    "#Note: this is exactly the sum of the above:\n",
    "C.evalFeature(ry.FS.accumulatedCollisions, [])"
   ]
  },
  {
   "cell_type": "markdown",
   "metadata": {},
   "source": [
    "Notes:\n",
    "* The contact flag of frames is an integer: 0 = does not contribute to contact lists, 1 = always contributes, negative = only contributes to collision pairs that are topologically distant in the kinematic tree\n",
    "* WARNING: the broad phase collision engine is created at first call - You cannot enable collisions between objects that were disabled during first call of the collision engine\n",
    "* TODO: enable recreation of a fresh collision engine for a changed configuration"
   ]
  },
  {
   "cell_type": "markdown",
   "metadata": {},
   "source": [
    "# How to attach frames - faking grasps\n",
    "Note, this is not real grasping. Just editing the kinematic tree in your configuration"
   ]
  },
  {
   "cell_type": "code",
   "execution_count": null,
   "metadata": {},
   "outputs": [],
   "source": [
    "import os\n",
    "os._exit(0)"
   ]
  },
  {
   "cell_type": "code",
   "execution_count": 1,
   "metadata": {},
   "outputs": [
    {
     "name": "stdout",
     "output_type": "stream",
     "text": [
      "**ry-c++-log** /home/jung-su/git/robotics-course/rai/rai/ry/ry.cpp:init_LogToPythonConsole:34(0) initializing ry log callback\n",
      "\n"
     ]
    }
   ],
   "source": [
    "import sys\n",
    "sys.path.append('../build')\n",
    "import libry as ry\n",
    "import numpy as np\n",
    "import time"
   ]
  },
  {
   "cell_type": "code",
   "execution_count": 2,
   "metadata": {},
   "outputs": [],
   "source": [
    "C = ry.Config()\n",
    "C.addFile(\"../scenarios/pandasTable.g\")\n",
    "D = C.view()"
   ]
  },
  {
   "cell_type": "code",
   "execution_count": 3,
   "metadata": {},
   "outputs": [],
   "source": [
    "C.attach(\"L_gripper\", \"R_gripper\")"
   ]
  },
  {
   "cell_type": "code",
   "execution_count": 4,
   "metadata": {},
   "outputs": [],
   "source": [
    "#move a bit around\n",
    "\n",
    "q = C.getJointState()\n",
    "\n",
    "for t in range(30):\n",
    "    q[0] = np.sin(t/10)\n",
    "    \n",
    "    C.setJointState(q)\n",
    "    time.sleep(0.1)"
   ]
  },
  {
   "cell_type": "code",
   "execution_count": null,
   "metadata": {},
   "outputs": [],
   "source": []
  }
 ],
 "metadata": {
  "kernelspec": {
   "display_name": "Python 3",
   "language": "python",
   "name": "python3"
  },
  "language_info": {
   "codemirror_mode": {
    "name": "ipython",
    "version": 3
   },
   "file_extension": ".py",
   "mimetype": "text/x-python",
   "name": "python",
   "nbconvert_exporter": "python",
   "pygments_lexer": "ipython3",
   "version": "3.6.9"
  }
 },
 "nbformat": 4,
 "nbformat_minor": 4
}
